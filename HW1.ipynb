{
  "cells": [
    {
      "cell_type": "markdown",
      "metadata": {
        "id": "view-in-github",
        "colab_type": "text"
      },
      "source": [
        "<a href=\"https://colab.research.google.com/github/hyein-kim-CAU/smart-city/blob/main/HW1.ipynb\" target=\"_parent\"><img src=\"https://colab.research.google.com/assets/colab-badge.svg\" alt=\"Open In Colab\"/></a>"
      ]
    },
    {
      "cell_type": "markdown",
      "id": "6e407fb8",
      "metadata": {
        "id": "6e407fb8"
      },
      "source": [
        "# HW1"
      ]
    },
    {
      "cell_type": "code",
      "execution_count": 1,
      "id": "7993db73",
      "metadata": {
        "id": "7993db73"
      },
      "outputs": [],
      "source": [
        "\n",
        "import tensorflow as tf\n",
        "from tensorflow import keras\n",
        "from tensorflow.keras import layers, regularizers\n",
        "import matplotlib.pyplot as plt\n",
        "import pandas as pd\n"
      ]
    },
    {
      "cell_type": "code",
      "execution_count": null,
      "id": "fdbd1ebd",
      "metadata": {
        "colab": {
          "base_uri": "https://localhost:8080/"
        },
        "id": "fdbd1ebd",
        "outputId": "4b1d874b-a3b9-4ee4-c431-eeb749484bc7"
      },
      "outputs": [
        {
          "output_type": "stream",
          "name": "stdout",
          "text": [
            "Downloading data from https://storage.googleapis.com/tensorflow/tf-keras-datasets/imdb.npz\n",
            "\u001b[1m17464789/17464789\u001b[0m \u001b[32m━━━━━━━━━━━━━━━━━━━━\u001b[0m\u001b[37m\u001b[0m \u001b[1m0s\u001b[0m 0us/step\n"
          ]
        }
      ],
      "source": [
        "\n",
        "# Load IMDB dataset\n",
        "(x_train, y_train), (x_test, y_test) = keras.datasets.imdb.load_data(num_words=10000)\n",
        "\n",
        "# Vectorize the sequences\n",
        "def vectorize_sequences(sequences, dimension=10000):\n",
        "    results = tf.zeros((len(sequences), dimension))\n",
        "    for i, sequence in enumerate(sequences):\n",
        "        results = tf.tensor_scatter_nd_update(results, [[i]], [tf.reduce_sum(tf.one_hot(sequence, depth=dimension), axis=0)])\n",
        "    return results\n",
        "\n",
        "x_train = vectorize_sequences(x_train)\n",
        "x_test = vectorize_sequences(x_test)\n",
        "\n",
        "y_train = tf.convert_to_tensor(y_train).numpy().astype(\"float32\")\n",
        "y_test = tf.convert_to_tensor(y_test).numpy().astype(\"float32\")\n"
      ]
    },
    {
      "cell_type": "code",
      "execution_count": null,
      "id": "c052ced2",
      "metadata": {
        "id": "c052ced2"
      },
      "outputs": [],
      "source": [
        "\n",
        "# Define three models: baseline, L1 regularization, and Dropout\n",
        "def build_model(model_type='baseline'):\n",
        "    model = keras.Sequential()\n",
        "    if model_type == 'l1':\n",
        "        model.add(layers.Dense(16, activation='relu', input_shape=(10000,),\n",
        "                               kernel_regularizer=regularizers.l1(0.001)))\n",
        "    else:\n",
        "        model.add(layers.Dense(16, activation='relu', input_shape=(10000,)))\n",
        "\n",
        "    if model_type == 'dropout':\n",
        "        model.add(layers.Dropout(0.5))\n",
        "\n",
        "    model.add(layers.Dense(16, activation='relu'))\n",
        "    model.add(layers.Dense(1, activation='sigmoid'))\n",
        "\n",
        "    model.compile(optimizer='rmsprop',\n",
        "                  loss='binary_crossentropy',\n",
        "                  metrics=['accuracy'])\n",
        "    return model\n"
      ]
    },
    {
      "cell_type": "code",
      "execution_count": null,
      "id": "4892348c",
      "metadata": {
        "id": "4892348c"
      },
      "outputs": [],
      "source": [
        "\n",
        "# Train and record history\n",
        "histories = {}\n",
        "for name in ['baseline', 'l1', 'dropout']:\n",
        "    print(f\"Training {name} model...\")\n",
        "    model = build_model(name)\n",
        "    history = model.fit(x_train, y_train,\n",
        "                        epochs=20,\n",
        "                        batch_size=512,\n",
        "                        validation_split=0.2,\n",
        "                        verbose=0)\n",
        "    histories[name] = history\n"
      ]
    },
    {
      "cell_type": "code",
      "execution_count": null,
      "id": "b7c24cbb",
      "metadata": {
        "id": "b7c24cbb"
      },
      "outputs": [],
      "source": [
        "\n",
        "# Prepare history DataFrame\n",
        "history_df = pd.DataFrame({\n",
        "    'epoch': range(1, 21),\n",
        "    'baseline_val_loss': histories['baseline'].history['val_loss'],\n",
        "    'l1_val_loss': histories['l1'].history['val_loss'],\n",
        "    'dropout_val_loss': histories['dropout'].history['val_loss'],\n",
        "    'baseline_val_acc': histories['baseline'].history['val_accuracy'],\n",
        "    'l1_val_acc': histories['l1'].history['val_accuracy'],\n",
        "    'dropout_val_acc': histories['dropout'].history['val_accuracy'],\n",
        "})\n",
        "history_df.head()\n"
      ]
    },
    {
      "cell_type": "code",
      "execution_count": null,
      "id": "88f48701",
      "metadata": {
        "id": "88f48701"
      },
      "outputs": [],
      "source": [
        "\n",
        "# Plotting validation loss and accuracy\n",
        "plt.figure(figsize=(12, 5))\n",
        "\n",
        "plt.subplot(1, 2, 1)\n",
        "plt.plot(history_df['epoch'], history_df['baseline_val_loss'], label='Baseline')\n",
        "plt.plot(history_df['epoch'], history_df['l1_val_loss'], label='L1 Regularization')\n",
        "plt.plot(history_df['epoch'], history_df['dropout_val_loss'], label='Dropout')\n",
        "plt.title('Validation Loss')\n",
        "plt.xlabel('Epoch')\n",
        "plt.ylabel('Loss')\n",
        "plt.legend()\n",
        "\n",
        "plt.subplot(1, 2, 2)\n",
        "plt.plot(history_df['epoch'], history_df['baseline_val_acc'], label='Baseline')\n",
        "plt.plot(history_df['epoch'], history_df['l1_val_acc'], label='L1 Regularization')\n",
        "plt.plot(history_df['epoch'], history_df['dropout_val_acc'], label='Dropout')\n",
        "plt.title('Validation Accuracy')\n",
        "plt.xlabel('Epoch')\n",
        "plt.ylabel('Accuracy')\n",
        "plt.legend()\n",
        "\n",
        "plt.tight_layout()\n",
        "plt.show()\n"
      ]
    }
  ],
  "metadata": {
    "colab": {
      "provenance": [],
      "toc_visible": true,
      "gpuType": "T4",
      "include_colab_link": true
    },
    "language_info": {
      "name": "python"
    },
    "kernelspec": {
      "name": "python3",
      "display_name": "Python 3"
    },
    "accelerator": "GPU"
  },
  "nbformat": 4,
  "nbformat_minor": 5
}